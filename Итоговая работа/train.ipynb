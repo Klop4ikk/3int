{
  "nbformat": 4,
  "nbformat_minor": 0,
  "metadata": {
    "colab": {
      "provenance": [],
      "collapsed_sections": [
        "pxzYRIqr4qEv"
      ]
    },
    "kernelspec": {
      "name": "python3",
      "display_name": "Python 3"
    },
    "language_info": {
      "name": "python"
    }
  },
  "cells": [
    {
      "cell_type": "markdown",
      "source": [
        "# Загрузка данных"
      ],
      "metadata": {
        "id": "pxzYRIqr4qEv"
      }
    },
    {
      "cell_type": "markdown",
      "source": [
        "Импорт и установка библиотек"
      ],
      "metadata": {
        "id": "X5wMaXGg4I_-"
      }
    },
    {
      "cell_type": "code",
      "execution_count": 1,
      "metadata": {
        "colab": {
          "base_uri": "https://localhost:8080/"
        },
        "id": "hFDxPxOWCb5E",
        "outputId": "bbdbdace-380a-4cec-fa1a-91d53333774c"
      },
      "outputs": [
        {
          "output_type": "stream",
          "name": "stdout",
          "text": [
            "Requirement already satisfied: pmdarima in /usr/local/lib/python3.11/dist-packages (2.0.4)\n",
            "Requirement already satisfied: joblib>=0.11 in /usr/local/lib/python3.11/dist-packages (from pmdarima) (1.4.2)\n",
            "Requirement already satisfied: Cython!=0.29.18,!=0.29.31,>=0.29 in /usr/local/lib/python3.11/dist-packages (from pmdarima) (3.0.12)\n",
            "Requirement already satisfied: numpy>=1.21.2 in /usr/local/lib/python3.11/dist-packages (from pmdarima) (1.25.0)\n",
            "Requirement already satisfied: pandas>=0.19 in /usr/local/lib/python3.11/dist-packages (from pmdarima) (2.2.2)\n",
            "Requirement already satisfied: scikit-learn>=0.22 in /usr/local/lib/python3.11/dist-packages (from pmdarima) (1.6.1)\n",
            "Requirement already satisfied: scipy>=1.3.2 in /usr/local/lib/python3.11/dist-packages (from pmdarima) (1.14.1)\n",
            "Requirement already satisfied: statsmodels>=0.13.2 in /usr/local/lib/python3.11/dist-packages (from pmdarima) (0.14.4)\n",
            "Requirement already satisfied: urllib3 in /usr/local/lib/python3.11/dist-packages (from pmdarima) (2.3.0)\n",
            "Requirement already satisfied: setuptools!=50.0.0,>=38.6.0 in /usr/local/lib/python3.11/dist-packages (from pmdarima) (75.1.0)\n",
            "Requirement already satisfied: packaging>=17.1 in /usr/local/lib/python3.11/dist-packages (from pmdarima) (24.2)\n",
            "Requirement already satisfied: python-dateutil>=2.8.2 in /usr/local/lib/python3.11/dist-packages (from pandas>=0.19->pmdarima) (2.8.2)\n",
            "Requirement already satisfied: pytz>=2020.1 in /usr/local/lib/python3.11/dist-packages (from pandas>=0.19->pmdarima) (2025.1)\n",
            "Requirement already satisfied: tzdata>=2022.7 in /usr/local/lib/python3.11/dist-packages (from pandas>=0.19->pmdarima) (2025.1)\n",
            "Requirement already satisfied: threadpoolctl>=3.1.0 in /usr/local/lib/python3.11/dist-packages (from scikit-learn>=0.22->pmdarima) (3.6.0)\n",
            "Requirement already satisfied: patsy>=0.5.6 in /usr/local/lib/python3.11/dist-packages (from statsmodels>=0.13.2->pmdarima) (1.0.1)\n",
            "Requirement already satisfied: six>=1.5 in /usr/local/lib/python3.11/dist-packages (from python-dateutil>=2.8.2->pandas>=0.19->pmdarima) (1.17.0)\n"
          ]
        }
      ],
      "source": [
        "!pip install pmdarima\n",
        "\n",
        "import pickle\n",
        "import warnings\n",
        "import requests\n",
        "import statsmodels\n",
        "import numpy as np\n",
        "import pandas as pd\n",
        "import seaborn as sns\n",
        "import tensorflow as tf\n",
        "from io import BytesIO\n",
        "from datetime import datetime\n",
        "from pmdarima import auto_arima\n",
        "import matplotlib.pyplot as plt\n",
        "from sklearn.preprocessing import MinMaxScaler\n",
        "from tensorflow.keras.models import Sequential\n",
        "from sklearn.linear_model import LinearRegression\n",
        "from sklearn.ensemble import RandomForestRegressor\n",
        "from statsmodels.tsa.stattools import acf, adfuller\n",
        "from sklearn.model_selection import train_test_split\n",
        "from statsmodels.tsa.statespace.sarimax import SARIMAX\n",
        "from statsmodels.tsa.seasonal import seasonal_decompose\n",
        "from tensorflow.keras.layers import LSTM, Dense, Dropout\n",
        "from statsmodels.graphics.tsaplots import plot_acf, plot_pacf\n",
        "from sklearn.metrics import mean_absolute_error, mean_squared_error\n",
        "\n",
        "\n",
        "warnings.filterwarnings(\"ignore\")\n",
        "%matplotlib inline"
      ]
    },
    {
      "cell_type": "markdown",
      "source": [
        "Выберите способ загрузки данных"
      ],
      "metadata": {
        "id": "hshsD6VJEGmD"
      }
    },
    {
      "cell_type": "code",
      "source": [
        "url = \"https://github.com/samoletpanfilov/reinforcement_task/raw/refs/heads/master/data/train.xlsx\"  # Ссылка должна содержать raw\n",
        "response = requests.get(url)\n",
        "df_ts = pd.read_excel(BytesIO(response.content), engine='openpyxl')"
      ],
      "metadata": {
        "id": "I_yo5jK4ECbA"
      },
      "execution_count": 2,
      "outputs": []
    },
    {
      "cell_type": "code",
      "source": [
        "# df_ts = pd.read_excel('/content/drive/MyDrive/int/train.xlsx')"
      ],
      "metadata": {
        "id": "42STLnBpEOuk"
      },
      "execution_count": 3,
      "outputs": []
    },
    {
      "cell_type": "markdown",
      "source": [
        "# Анализ и предобработка"
      ],
      "metadata": {
        "id": "ywi49FhK4fDP"
      }
    },
    {
      "cell_type": "markdown",
      "source": [
        "### просмотр статистической информации"
      ],
      "metadata": {
        "id": "Bm7Nu05i4VmF"
      }
    },
    {
      "cell_type": "code",
      "source": [
        "df_ts.head(15)"
      ],
      "metadata": {
        "colab": {
          "base_uri": "https://localhost:8080/",
          "height": 519
        },
        "id": "pVYPnP-QFAaZ",
        "outputId": "20cd5104-1058-4e36-decd-ce0d5ae69cd4"
      },
      "execution_count": 4,
      "outputs": [
        {
          "output_type": "execute_result",
          "data": {
            "text/plain": [
              "           dt  Цена на арматуру\n",
              "0  2015-01-05             32900\n",
              "1  2015-01-12             32500\n",
              "2  2015-01-19             32000\n",
              "3  2015-01-26             30700\n",
              "4  2015-02-02             30300\n",
              "5  2015-02-09             30300\n",
              "6  2015-02-16             30100\n",
              "7  2015-02-23             29400\n",
              "8  2015-03-02             29200\n",
              "9  2015-03-09             29000\n",
              "10 2015-03-16             28700\n",
              "11 2015-03-23             27800\n",
              "12 2015-03-30             27200\n",
              "13 2015-04-06             26600\n",
              "14 2015-04-13             25700"
            ],
            "text/html": [
              "\n",
              "  <div id=\"df-69e98a8e-93ba-4cd2-92d4-eb7f94b6af26\" class=\"colab-df-container\">\n",
              "    <div>\n",
              "<style scoped>\n",
              "    .dataframe tbody tr th:only-of-type {\n",
              "        vertical-align: middle;\n",
              "    }\n",
              "\n",
              "    .dataframe tbody tr th {\n",
              "        vertical-align: top;\n",
              "    }\n",
              "\n",
              "    .dataframe thead th {\n",
              "        text-align: right;\n",
              "    }\n",
              "</style>\n",
              "<table border=\"1\" class=\"dataframe\">\n",
              "  <thead>\n",
              "    <tr style=\"text-align: right;\">\n",
              "      <th></th>\n",
              "      <th>dt</th>\n",
              "      <th>Цена на арматуру</th>\n",
              "    </tr>\n",
              "  </thead>\n",
              "  <tbody>\n",
              "    <tr>\n",
              "      <th>0</th>\n",
              "      <td>2015-01-05</td>\n",
              "      <td>32900</td>\n",
              "    </tr>\n",
              "    <tr>\n",
              "      <th>1</th>\n",
              "      <td>2015-01-12</td>\n",
              "      <td>32500</td>\n",
              "    </tr>\n",
              "    <tr>\n",
              "      <th>2</th>\n",
              "      <td>2015-01-19</td>\n",
              "      <td>32000</td>\n",
              "    </tr>\n",
              "    <tr>\n",
              "      <th>3</th>\n",
              "      <td>2015-01-26</td>\n",
              "      <td>30700</td>\n",
              "    </tr>\n",
              "    <tr>\n",
              "      <th>4</th>\n",
              "      <td>2015-02-02</td>\n",
              "      <td>30300</td>\n",
              "    </tr>\n",
              "    <tr>\n",
              "      <th>5</th>\n",
              "      <td>2015-02-09</td>\n",
              "      <td>30300</td>\n",
              "    </tr>\n",
              "    <tr>\n",
              "      <th>6</th>\n",
              "      <td>2015-02-16</td>\n",
              "      <td>30100</td>\n",
              "    </tr>\n",
              "    <tr>\n",
              "      <th>7</th>\n",
              "      <td>2015-02-23</td>\n",
              "      <td>29400</td>\n",
              "    </tr>\n",
              "    <tr>\n",
              "      <th>8</th>\n",
              "      <td>2015-03-02</td>\n",
              "      <td>29200</td>\n",
              "    </tr>\n",
              "    <tr>\n",
              "      <th>9</th>\n",
              "      <td>2015-03-09</td>\n",
              "      <td>29000</td>\n",
              "    </tr>\n",
              "    <tr>\n",
              "      <th>10</th>\n",
              "      <td>2015-03-16</td>\n",
              "      <td>28700</td>\n",
              "    </tr>\n",
              "    <tr>\n",
              "      <th>11</th>\n",
              "      <td>2015-03-23</td>\n",
              "      <td>27800</td>\n",
              "    </tr>\n",
              "    <tr>\n",
              "      <th>12</th>\n",
              "      <td>2015-03-30</td>\n",
              "      <td>27200</td>\n",
              "    </tr>\n",
              "    <tr>\n",
              "      <th>13</th>\n",
              "      <td>2015-04-06</td>\n",
              "      <td>26600</td>\n",
              "    </tr>\n",
              "    <tr>\n",
              "      <th>14</th>\n",
              "      <td>2015-04-13</td>\n",
              "      <td>25700</td>\n",
              "    </tr>\n",
              "  </tbody>\n",
              "</table>\n",
              "</div>\n",
              "    <div class=\"colab-df-buttons\">\n",
              "\n",
              "  <div class=\"colab-df-container\">\n",
              "    <button class=\"colab-df-convert\" onclick=\"convertToInteractive('df-69e98a8e-93ba-4cd2-92d4-eb7f94b6af26')\"\n",
              "            title=\"Convert this dataframe to an interactive table.\"\n",
              "            style=\"display:none;\">\n",
              "\n",
              "  <svg xmlns=\"http://www.w3.org/2000/svg\" height=\"24px\" viewBox=\"0 -960 960 960\">\n",
              "    <path d=\"M120-120v-720h720v720H120Zm60-500h600v-160H180v160Zm220 220h160v-160H400v160Zm0 220h160v-160H400v160ZM180-400h160v-160H180v160Zm440 0h160v-160H620v160ZM180-180h160v-160H180v160Zm440 0h160v-160H620v160Z\"/>\n",
              "  </svg>\n",
              "    </button>\n",
              "\n",
              "  <style>\n",
              "    .colab-df-container {\n",
              "      display:flex;\n",
              "      gap: 12px;\n",
              "    }\n",
              "\n",
              "    .colab-df-convert {\n",
              "      background-color: #E8F0FE;\n",
              "      border: none;\n",
              "      border-radius: 50%;\n",
              "      cursor: pointer;\n",
              "      display: none;\n",
              "      fill: #1967D2;\n",
              "      height: 32px;\n",
              "      padding: 0 0 0 0;\n",
              "      width: 32px;\n",
              "    }\n",
              "\n",
              "    .colab-df-convert:hover {\n",
              "      background-color: #E2EBFA;\n",
              "      box-shadow: 0px 1px 2px rgba(60, 64, 67, 0.3), 0px 1px 3px 1px rgba(60, 64, 67, 0.15);\n",
              "      fill: #174EA6;\n",
              "    }\n",
              "\n",
              "    .colab-df-buttons div {\n",
              "      margin-bottom: 4px;\n",
              "    }\n",
              "\n",
              "    [theme=dark] .colab-df-convert {\n",
              "      background-color: #3B4455;\n",
              "      fill: #D2E3FC;\n",
              "    }\n",
              "\n",
              "    [theme=dark] .colab-df-convert:hover {\n",
              "      background-color: #434B5C;\n",
              "      box-shadow: 0px 1px 3px 1px rgba(0, 0, 0, 0.15);\n",
              "      filter: drop-shadow(0px 1px 2px rgba(0, 0, 0, 0.3));\n",
              "      fill: #FFFFFF;\n",
              "    }\n",
              "  </style>\n",
              "\n",
              "    <script>\n",
              "      const buttonEl =\n",
              "        document.querySelector('#df-69e98a8e-93ba-4cd2-92d4-eb7f94b6af26 button.colab-df-convert');\n",
              "      buttonEl.style.display =\n",
              "        google.colab.kernel.accessAllowed ? 'block' : 'none';\n",
              "\n",
              "      async function convertToInteractive(key) {\n",
              "        const element = document.querySelector('#df-69e98a8e-93ba-4cd2-92d4-eb7f94b6af26');\n",
              "        const dataTable =\n",
              "          await google.colab.kernel.invokeFunction('convertToInteractive',\n",
              "                                                    [key], {});\n",
              "        if (!dataTable) return;\n",
              "\n",
              "        const docLinkHtml = 'Like what you see? Visit the ' +\n",
              "          '<a target=\"_blank\" href=https://colab.research.google.com/notebooks/data_table.ipynb>data table notebook</a>'\n",
              "          + ' to learn more about interactive tables.';\n",
              "        element.innerHTML = '';\n",
              "        dataTable['output_type'] = 'display_data';\n",
              "        await google.colab.output.renderOutput(dataTable, element);\n",
              "        const docLink = document.createElement('div');\n",
              "        docLink.innerHTML = docLinkHtml;\n",
              "        element.appendChild(docLink);\n",
              "      }\n",
              "    </script>\n",
              "  </div>\n",
              "\n",
              "\n",
              "<div id=\"df-2b917702-511e-4f06-b0d7-fe80e3457cc2\">\n",
              "  <button class=\"colab-df-quickchart\" onclick=\"quickchart('df-2b917702-511e-4f06-b0d7-fe80e3457cc2')\"\n",
              "            title=\"Suggest charts\"\n",
              "            style=\"display:none;\">\n",
              "\n",
              "<svg xmlns=\"http://www.w3.org/2000/svg\" height=\"24px\"viewBox=\"0 0 24 24\"\n",
              "     width=\"24px\">\n",
              "    <g>\n",
              "        <path d=\"M19 3H5c-1.1 0-2 .9-2 2v14c0 1.1.9 2 2 2h14c1.1 0 2-.9 2-2V5c0-1.1-.9-2-2-2zM9 17H7v-7h2v7zm4 0h-2V7h2v10zm4 0h-2v-4h2v4z\"/>\n",
              "    </g>\n",
              "</svg>\n",
              "  </button>\n",
              "\n",
              "<style>\n",
              "  .colab-df-quickchart {\n",
              "      --bg-color: #E8F0FE;\n",
              "      --fill-color: #1967D2;\n",
              "      --hover-bg-color: #E2EBFA;\n",
              "      --hover-fill-color: #174EA6;\n",
              "      --disabled-fill-color: #AAA;\n",
              "      --disabled-bg-color: #DDD;\n",
              "  }\n",
              "\n",
              "  [theme=dark] .colab-df-quickchart {\n",
              "      --bg-color: #3B4455;\n",
              "      --fill-color: #D2E3FC;\n",
              "      --hover-bg-color: #434B5C;\n",
              "      --hover-fill-color: #FFFFFF;\n",
              "      --disabled-bg-color: #3B4455;\n",
              "      --disabled-fill-color: #666;\n",
              "  }\n",
              "\n",
              "  .colab-df-quickchart {\n",
              "    background-color: var(--bg-color);\n",
              "    border: none;\n",
              "    border-radius: 50%;\n",
              "    cursor: pointer;\n",
              "    display: none;\n",
              "    fill: var(--fill-color);\n",
              "    height: 32px;\n",
              "    padding: 0;\n",
              "    width: 32px;\n",
              "  }\n",
              "\n",
              "  .colab-df-quickchart:hover {\n",
              "    background-color: var(--hover-bg-color);\n",
              "    box-shadow: 0 1px 2px rgba(60, 64, 67, 0.3), 0 1px 3px 1px rgba(60, 64, 67, 0.15);\n",
              "    fill: var(--button-hover-fill-color);\n",
              "  }\n",
              "\n",
              "  .colab-df-quickchart-complete:disabled,\n",
              "  .colab-df-quickchart-complete:disabled:hover {\n",
              "    background-color: var(--disabled-bg-color);\n",
              "    fill: var(--disabled-fill-color);\n",
              "    box-shadow: none;\n",
              "  }\n",
              "\n",
              "  .colab-df-spinner {\n",
              "    border: 2px solid var(--fill-color);\n",
              "    border-color: transparent;\n",
              "    border-bottom-color: var(--fill-color);\n",
              "    animation:\n",
              "      spin 1s steps(1) infinite;\n",
              "  }\n",
              "\n",
              "  @keyframes spin {\n",
              "    0% {\n",
              "      border-color: transparent;\n",
              "      border-bottom-color: var(--fill-color);\n",
              "      border-left-color: var(--fill-color);\n",
              "    }\n",
              "    20% {\n",
              "      border-color: transparent;\n",
              "      border-left-color: var(--fill-color);\n",
              "      border-top-color: var(--fill-color);\n",
              "    }\n",
              "    30% {\n",
              "      border-color: transparent;\n",
              "      border-left-color: var(--fill-color);\n",
              "      border-top-color: var(--fill-color);\n",
              "      border-right-color: var(--fill-color);\n",
              "    }\n",
              "    40% {\n",
              "      border-color: transparent;\n",
              "      border-right-color: var(--fill-color);\n",
              "      border-top-color: var(--fill-color);\n",
              "    }\n",
              "    60% {\n",
              "      border-color: transparent;\n",
              "      border-right-color: var(--fill-color);\n",
              "    }\n",
              "    80% {\n",
              "      border-color: transparent;\n",
              "      border-right-color: var(--fill-color);\n",
              "      border-bottom-color: var(--fill-color);\n",
              "    }\n",
              "    90% {\n",
              "      border-color: transparent;\n",
              "      border-bottom-color: var(--fill-color);\n",
              "    }\n",
              "  }\n",
              "</style>\n",
              "\n",
              "  <script>\n",
              "    async function quickchart(key) {\n",
              "      const quickchartButtonEl =\n",
              "        document.querySelector('#' + key + ' button');\n",
              "      quickchartButtonEl.disabled = true;  // To prevent multiple clicks.\n",
              "      quickchartButtonEl.classList.add('colab-df-spinner');\n",
              "      try {\n",
              "        const charts = await google.colab.kernel.invokeFunction(\n",
              "            'suggestCharts', [key], {});\n",
              "      } catch (error) {\n",
              "        console.error('Error during call to suggestCharts:', error);\n",
              "      }\n",
              "      quickchartButtonEl.classList.remove('colab-df-spinner');\n",
              "      quickchartButtonEl.classList.add('colab-df-quickchart-complete');\n",
              "    }\n",
              "    (() => {\n",
              "      let quickchartButtonEl =\n",
              "        document.querySelector('#df-2b917702-511e-4f06-b0d7-fe80e3457cc2 button');\n",
              "      quickchartButtonEl.style.display =\n",
              "        google.colab.kernel.accessAllowed ? 'block' : 'none';\n",
              "    })();\n",
              "  </script>\n",
              "</div>\n",
              "    </div>\n",
              "  </div>\n"
            ],
            "application/vnd.google.colaboratory.intrinsic+json": {
              "type": "dataframe",
              "variable_name": "df_ts",
              "summary": "{\n  \"name\": \"df_ts\",\n  \"rows\": 400,\n  \"fields\": [\n    {\n      \"column\": \"dt\",\n      \"properties\": {\n        \"dtype\": \"date\",\n        \"min\": \"2015-01-05 00:00:00\",\n        \"max\": \"2022-08-29 00:00:00\",\n        \"num_unique_values\": 400,\n        \"samples\": [\n          \"2019-01-07 00:00:00\",\n          \"2020-05-18 00:00:00\",\n          \"2015-08-24 00:00:00\"\n        ],\n        \"semantic_type\": \"\",\n        \"description\": \"\"\n      }\n    },\n    {\n      \"column\": \"\\u0426\\u0435\\u043d\\u0430 \\u043d\\u0430 \\u0430\\u0440\\u043c\\u0430\\u0442\\u0443\\u0440\\u0443\",\n      \"properties\": {\n        \"dtype\": \"number\",\n        \"std\": 13407,\n        \"min\": 21000,\n        \"max\": 79000,\n        \"num_unique_values\": 211,\n        \"samples\": [\n          24500,\n          54500,\n          40500\n        ],\n        \"semantic_type\": \"\",\n        \"description\": \"\"\n      }\n    }\n  ]\n}"
            }
          },
          "metadata": {},
          "execution_count": 4
        }
      ]
    },
    {
      "cell_type": "code",
      "source": [
        "df_ts.info()"
      ],
      "metadata": {
        "colab": {
          "base_uri": "https://localhost:8080/"
        },
        "id": "7UviAJJYECP4",
        "outputId": "d25f2460-5ac3-42e9-83a3-2e0e52e19ea7"
      },
      "execution_count": 5,
      "outputs": [
        {
          "output_type": "stream",
          "name": "stdout",
          "text": [
            "<class 'pandas.core.frame.DataFrame'>\n",
            "RangeIndex: 400 entries, 0 to 399\n",
            "Data columns (total 2 columns):\n",
            " #   Column            Non-Null Count  Dtype         \n",
            "---  ------            --------------  -----         \n",
            " 0   dt                400 non-null    datetime64[ns]\n",
            " 1   Цена на арматуру  400 non-null    int64         \n",
            "dtypes: datetime64[ns](1), int64(1)\n",
            "memory usage: 6.4 KB\n"
          ]
        }
      ]
    },
    {
      "cell_type": "code",
      "source": [
        "# Проверка на наличие NaN\n",
        "df_ts['dt'].isna().sum()"
      ],
      "metadata": {
        "colab": {
          "base_uri": "https://localhost:8080/"
        },
        "id": "5C3qF68qXa90",
        "outputId": "125d9364-2935-4e1a-8e8c-bfa04c3ed719"
      },
      "execution_count": 6,
      "outputs": [
        {
          "output_type": "execute_result",
          "data": {
            "text/plain": [
              "0"
            ]
          },
          "metadata": {},
          "execution_count": 6
        }
      ]
    },
    {
      "cell_type": "code",
      "source": [
        "df_ts.describe()"
      ],
      "metadata": {
        "colab": {
          "base_uri": "https://localhost:8080/",
          "height": 300
        },
        "id": "MyPpQ5d-ECWg",
        "outputId": "e629c6de-0fcc-4da7-fa49-fb88f1ad4c52"
      },
      "execution_count": 7,
      "outputs": [
        {
          "output_type": "execute_result",
          "data": {
            "text/plain": [
              "                        dt  Цена на арматуру\n",
              "count                  400        400.000000\n",
              "mean   2018-11-01 12:00:00      39229.475000\n",
              "min    2015-01-05 00:00:00      21000.000000\n",
              "25%    2016-12-03 06:00:00      31075.000000\n",
              "50%    2018-11-01 12:00:00      35450.000000\n",
              "75%    2020-09-29 18:00:00      42000.000000\n",
              "max    2022-08-29 00:00:00      79000.000000\n",
              "std                    NaN      13407.979668"
            ],
            "text/html": [
              "\n",
              "  <div id=\"df-7788acfd-7af4-4e97-a267-c6e1a0ca6d60\" class=\"colab-df-container\">\n",
              "    <div>\n",
              "<style scoped>\n",
              "    .dataframe tbody tr th:only-of-type {\n",
              "        vertical-align: middle;\n",
              "    }\n",
              "\n",
              "    .dataframe tbody tr th {\n",
              "        vertical-align: top;\n",
              "    }\n",
              "\n",
              "    .dataframe thead th {\n",
              "        text-align: right;\n",
              "    }\n",
              "</style>\n",
              "<table border=\"1\" class=\"dataframe\">\n",
              "  <thead>\n",
              "    <tr style=\"text-align: right;\">\n",
              "      <th></th>\n",
              "      <th>dt</th>\n",
              "      <th>Цена на арматуру</th>\n",
              "    </tr>\n",
              "  </thead>\n",
              "  <tbody>\n",
              "    <tr>\n",
              "      <th>count</th>\n",
              "      <td>400</td>\n",
              "      <td>400.000000</td>\n",
              "    </tr>\n",
              "    <tr>\n",
              "      <th>mean</th>\n",
              "      <td>2018-11-01 12:00:00</td>\n",
              "      <td>39229.475000</td>\n",
              "    </tr>\n",
              "    <tr>\n",
              "      <th>min</th>\n",
              "      <td>2015-01-05 00:00:00</td>\n",
              "      <td>21000.000000</td>\n",
              "    </tr>\n",
              "    <tr>\n",
              "      <th>25%</th>\n",
              "      <td>2016-12-03 06:00:00</td>\n",
              "      <td>31075.000000</td>\n",
              "    </tr>\n",
              "    <tr>\n",
              "      <th>50%</th>\n",
              "      <td>2018-11-01 12:00:00</td>\n",
              "      <td>35450.000000</td>\n",
              "    </tr>\n",
              "    <tr>\n",
              "      <th>75%</th>\n",
              "      <td>2020-09-29 18:00:00</td>\n",
              "      <td>42000.000000</td>\n",
              "    </tr>\n",
              "    <tr>\n",
              "      <th>max</th>\n",
              "      <td>2022-08-29 00:00:00</td>\n",
              "      <td>79000.000000</td>\n",
              "    </tr>\n",
              "    <tr>\n",
              "      <th>std</th>\n",
              "      <td>NaN</td>\n",
              "      <td>13407.979668</td>\n",
              "    </tr>\n",
              "  </tbody>\n",
              "</table>\n",
              "</div>\n",
              "    <div class=\"colab-df-buttons\">\n",
              "\n",
              "  <div class=\"colab-df-container\">\n",
              "    <button class=\"colab-df-convert\" onclick=\"convertToInteractive('df-7788acfd-7af4-4e97-a267-c6e1a0ca6d60')\"\n",
              "            title=\"Convert this dataframe to an interactive table.\"\n",
              "            style=\"display:none;\">\n",
              "\n",
              "  <svg xmlns=\"http://www.w3.org/2000/svg\" height=\"24px\" viewBox=\"0 -960 960 960\">\n",
              "    <path d=\"M120-120v-720h720v720H120Zm60-500h600v-160H180v160Zm220 220h160v-160H400v160Zm0 220h160v-160H400v160ZM180-400h160v-160H180v160Zm440 0h160v-160H620v160ZM180-180h160v-160H180v160Zm440 0h160v-160H620v160Z\"/>\n",
              "  </svg>\n",
              "    </button>\n",
              "\n",
              "  <style>\n",
              "    .colab-df-container {\n",
              "      display:flex;\n",
              "      gap: 12px;\n",
              "    }\n",
              "\n",
              "    .colab-df-convert {\n",
              "      background-color: #E8F0FE;\n",
              "      border: none;\n",
              "      border-radius: 50%;\n",
              "      cursor: pointer;\n",
              "      display: none;\n",
              "      fill: #1967D2;\n",
              "      height: 32px;\n",
              "      padding: 0 0 0 0;\n",
              "      width: 32px;\n",
              "    }\n",
              "\n",
              "    .colab-df-convert:hover {\n",
              "      background-color: #E2EBFA;\n",
              "      box-shadow: 0px 1px 2px rgba(60, 64, 67, 0.3), 0px 1px 3px 1px rgba(60, 64, 67, 0.15);\n",
              "      fill: #174EA6;\n",
              "    }\n",
              "\n",
              "    .colab-df-buttons div {\n",
              "      margin-bottom: 4px;\n",
              "    }\n",
              "\n",
              "    [theme=dark] .colab-df-convert {\n",
              "      background-color: #3B4455;\n",
              "      fill: #D2E3FC;\n",
              "    }\n",
              "\n",
              "    [theme=dark] .colab-df-convert:hover {\n",
              "      background-color: #434B5C;\n",
              "      box-shadow: 0px 1px 3px 1px rgba(0, 0, 0, 0.15);\n",
              "      filter: drop-shadow(0px 1px 2px rgba(0, 0, 0, 0.3));\n",
              "      fill: #FFFFFF;\n",
              "    }\n",
              "  </style>\n",
              "\n",
              "    <script>\n",
              "      const buttonEl =\n",
              "        document.querySelector('#df-7788acfd-7af4-4e97-a267-c6e1a0ca6d60 button.colab-df-convert');\n",
              "      buttonEl.style.display =\n",
              "        google.colab.kernel.accessAllowed ? 'block' : 'none';\n",
              "\n",
              "      async function convertToInteractive(key) {\n",
              "        const element = document.querySelector('#df-7788acfd-7af4-4e97-a267-c6e1a0ca6d60');\n",
              "        const dataTable =\n",
              "          await google.colab.kernel.invokeFunction('convertToInteractive',\n",
              "                                                    [key], {});\n",
              "        if (!dataTable) return;\n",
              "\n",
              "        const docLinkHtml = 'Like what you see? Visit the ' +\n",
              "          '<a target=\"_blank\" href=https://colab.research.google.com/notebooks/data_table.ipynb>data table notebook</a>'\n",
              "          + ' to learn more about interactive tables.';\n",
              "        element.innerHTML = '';\n",
              "        dataTable['output_type'] = 'display_data';\n",
              "        await google.colab.output.renderOutput(dataTable, element);\n",
              "        const docLink = document.createElement('div');\n",
              "        docLink.innerHTML = docLinkHtml;\n",
              "        element.appendChild(docLink);\n",
              "      }\n",
              "    </script>\n",
              "  </div>\n",
              "\n",
              "\n",
              "<div id=\"df-c9161c6a-75b9-4089-9350-fa9fd6003dca\">\n",
              "  <button class=\"colab-df-quickchart\" onclick=\"quickchart('df-c9161c6a-75b9-4089-9350-fa9fd6003dca')\"\n",
              "            title=\"Suggest charts\"\n",
              "            style=\"display:none;\">\n",
              "\n",
              "<svg xmlns=\"http://www.w3.org/2000/svg\" height=\"24px\"viewBox=\"0 0 24 24\"\n",
              "     width=\"24px\">\n",
              "    <g>\n",
              "        <path d=\"M19 3H5c-1.1 0-2 .9-2 2v14c0 1.1.9 2 2 2h14c1.1 0 2-.9 2-2V5c0-1.1-.9-2-2-2zM9 17H7v-7h2v7zm4 0h-2V7h2v10zm4 0h-2v-4h2v4z\"/>\n",
              "    </g>\n",
              "</svg>\n",
              "  </button>\n",
              "\n",
              "<style>\n",
              "  .colab-df-quickchart {\n",
              "      --bg-color: #E8F0FE;\n",
              "      --fill-color: #1967D2;\n",
              "      --hover-bg-color: #E2EBFA;\n",
              "      --hover-fill-color: #174EA6;\n",
              "      --disabled-fill-color: #AAA;\n",
              "      --disabled-bg-color: #DDD;\n",
              "  }\n",
              "\n",
              "  [theme=dark] .colab-df-quickchart {\n",
              "      --bg-color: #3B4455;\n",
              "      --fill-color: #D2E3FC;\n",
              "      --hover-bg-color: #434B5C;\n",
              "      --hover-fill-color: #FFFFFF;\n",
              "      --disabled-bg-color: #3B4455;\n",
              "      --disabled-fill-color: #666;\n",
              "  }\n",
              "\n",
              "  .colab-df-quickchart {\n",
              "    background-color: var(--bg-color);\n",
              "    border: none;\n",
              "    border-radius: 50%;\n",
              "    cursor: pointer;\n",
              "    display: none;\n",
              "    fill: var(--fill-color);\n",
              "    height: 32px;\n",
              "    padding: 0;\n",
              "    width: 32px;\n",
              "  }\n",
              "\n",
              "  .colab-df-quickchart:hover {\n",
              "    background-color: var(--hover-bg-color);\n",
              "    box-shadow: 0 1px 2px rgba(60, 64, 67, 0.3), 0 1px 3px 1px rgba(60, 64, 67, 0.15);\n",
              "    fill: var(--button-hover-fill-color);\n",
              "  }\n",
              "\n",
              "  .colab-df-quickchart-complete:disabled,\n",
              "  .colab-df-quickchart-complete:disabled:hover {\n",
              "    background-color: var(--disabled-bg-color);\n",
              "    fill: var(--disabled-fill-color);\n",
              "    box-shadow: none;\n",
              "  }\n",
              "\n",
              "  .colab-df-spinner {\n",
              "    border: 2px solid var(--fill-color);\n",
              "    border-color: transparent;\n",
              "    border-bottom-color: var(--fill-color);\n",
              "    animation:\n",
              "      spin 1s steps(1) infinite;\n",
              "  }\n",
              "\n",
              "  @keyframes spin {\n",
              "    0% {\n",
              "      border-color: transparent;\n",
              "      border-bottom-color: var(--fill-color);\n",
              "      border-left-color: var(--fill-color);\n",
              "    }\n",
              "    20% {\n",
              "      border-color: transparent;\n",
              "      border-left-color: var(--fill-color);\n",
              "      border-top-color: var(--fill-color);\n",
              "    }\n",
              "    30% {\n",
              "      border-color: transparent;\n",
              "      border-left-color: var(--fill-color);\n",
              "      border-top-color: var(--fill-color);\n",
              "      border-right-color: var(--fill-color);\n",
              "    }\n",
              "    40% {\n",
              "      border-color: transparent;\n",
              "      border-right-color: var(--fill-color);\n",
              "      border-top-color: var(--fill-color);\n",
              "    }\n",
              "    60% {\n",
              "      border-color: transparent;\n",
              "      border-right-color: var(--fill-color);\n",
              "    }\n",
              "    80% {\n",
              "      border-color: transparent;\n",
              "      border-right-color: var(--fill-color);\n",
              "      border-bottom-color: var(--fill-color);\n",
              "    }\n",
              "    90% {\n",
              "      border-color: transparent;\n",
              "      border-bottom-color: var(--fill-color);\n",
              "    }\n",
              "  }\n",
              "</style>\n",
              "\n",
              "  <script>\n",
              "    async function quickchart(key) {\n",
              "      const quickchartButtonEl =\n",
              "        document.querySelector('#' + key + ' button');\n",
              "      quickchartButtonEl.disabled = true;  // To prevent multiple clicks.\n",
              "      quickchartButtonEl.classList.add('colab-df-spinner');\n",
              "      try {\n",
              "        const charts = await google.colab.kernel.invokeFunction(\n",
              "            'suggestCharts', [key], {});\n",
              "      } catch (error) {\n",
              "        console.error('Error during call to suggestCharts:', error);\n",
              "      }\n",
              "      quickchartButtonEl.classList.remove('colab-df-spinner');\n",
              "      quickchartButtonEl.classList.add('colab-df-quickchart-complete');\n",
              "    }\n",
              "    (() => {\n",
              "      let quickchartButtonEl =\n",
              "        document.querySelector('#df-c9161c6a-75b9-4089-9350-fa9fd6003dca button');\n",
              "      quickchartButtonEl.style.display =\n",
              "        google.colab.kernel.accessAllowed ? 'block' : 'none';\n",
              "    })();\n",
              "  </script>\n",
              "</div>\n",
              "    </div>\n",
              "  </div>\n"
            ],
            "application/vnd.google.colaboratory.intrinsic+json": {
              "type": "dataframe",
              "summary": "{\n  \"name\": \"df_ts\",\n  \"rows\": 8,\n  \"fields\": [\n    {\n      \"column\": \"dt\",\n      \"properties\": {\n        \"dtype\": \"date\",\n        \"min\": \"1970-01-01 00:00:00.000000400\",\n        \"max\": \"2022-08-29 00:00:00\",\n        \"num_unique_values\": 6,\n        \"samples\": [\n          \"400\",\n          \"2018-11-01 12:00:00\",\n          \"2022-08-29 00:00:00\"\n        ],\n        \"semantic_type\": \"\",\n        \"description\": \"\"\n      }\n    },\n    {\n      \"column\": \"\\u0426\\u0435\\u043d\\u0430 \\u043d\\u0430 \\u0430\\u0440\\u043c\\u0430\\u0442\\u0443\\u0440\\u0443\",\n      \"properties\": {\n        \"dtype\": \"number\",\n        \"std\": 23407.505026832583,\n        \"min\": 400.0,\n        \"max\": 79000.0,\n        \"num_unique_values\": 8,\n        \"samples\": [\n          39229.475,\n          42000.0,\n          400.0\n        ],\n        \"semantic_type\": \"\",\n        \"description\": \"\"\n      }\n    }\n  ]\n}"
            }
          },
          "metadata": {},
          "execution_count": 7
        }
      ]
    },
    {
      "cell_type": "code",
      "source": [
        "df_ts.shape"
      ],
      "metadata": {
        "colab": {
          "base_uri": "https://localhost:8080/"
        },
        "id": "94afbtxuECJh",
        "outputId": "0e77bc13-6757-42fe-fbb8-fc602d6e98c8"
      },
      "execution_count": 8,
      "outputs": [
        {
          "output_type": "execute_result",
          "data": {
            "text/plain": [
              "(400, 2)"
            ]
          },
          "metadata": {},
          "execution_count": 8
        }
      ]
    },
    {
      "cell_type": "markdown",
      "source": [
        "### Визуализация"
      ],
      "metadata": {
        "id": "CKyW8cId5HMD"
      }
    },
    {
      "cell_type": "code",
      "source": [
        "# Строим график\n",
        "plt.figure(figsize=(12, 6))\n",
        "plt.plot(df_ts[\"Цена на арматуру\"], marker='', linestyle='-')\n",
        "\n",
        "# Настроим оси и заголовок\n",
        "plt.xlabel(\"Дата\")\n",
        "plt.ylabel(\"Цена на арматуру\")\n",
        "plt.title(\"Динамика цен на арматуру\")\n",
        "plt.grid(True)\n",
        "\n",
        "# Улучшим читаемость меток дат\n",
        "plt.xticks(rotation=45)\n",
        "\n",
        "# Показываем график\n",
        "plt.show()"
      ],
      "metadata": {
        "colab": {
          "base_uri": "https://localhost:8080/",
          "height": 579
        },
        "id": "MaTceHRPEB_x",
        "outputId": "f4a26c45-65a6-426a-fde7-0b80d60a1bdc"
      },
      "execution_count": 9,
      "outputs": [
        {
          "output_type": "display_data",
          "data": {
            "text/plain": [
              "<Figure size 1200x600 with 1 Axes>"
            ],
            "image/png": "[encoded data removed]"
          },
          "metadata": {}
        }
      ]
    },
    {
      "cell_type": "code",
      "source": [
        "# Декомпозиция временного ряда\n",
        "decompose = seasonal_decompose(df_ts['Цена на арматуру'], period=52, extrapolate_trend=False)\n",
        "\n",
        "# 1. Восстановление тренда с помощью SARIMA\n",
        "trend_filled = decompose.trend.fillna(method='ffill')  # Заполняем пропуски временно, чтобы обучить модель\n",
        "model_trend = SARIMAX(trend_filled, order=(3,1,3), seasonal_order=(1,1,1,52))\n",
        "result_trend = model_trend.fit()\n",
        "\n",
        "# Предсказание тренда на весь диапазон данных\n",
        "trend_pred = result_trend.predict(start=trend_filled.index[0], end=trend_filled.index[-1])\n",
        "\n",
        "# Вставляем предсказанные значения вместо NaN\n",
        "trend_recovered = decompose.trend.copy()\n",
        "trend_recovered.loc[trend_recovered.isna()] = trend_pred[trend_recovered.isna()]\n",
        "\n",
        "# 2. Восстановление шума с помощью RandomForest\n",
        "residuals = decompose.resid.copy()\n",
        "\n",
        "# Разделяем известные и пропущенные значения\n",
        "known_idx = residuals.dropna().index\n",
        "missing_idx = residuals[residuals.isna()].index\n",
        "\n",
        "# Обучаем RandomForest на известных значениях шума\n",
        "X_train = np.array(known_idx).reshape(-1, 1)\n",
        "y_train = residuals.dropna().values\n",
        "\n",
        "rf_model = RandomForestRegressor(n_estimators=100, random_state=42)\n",
        "rf_model.fit(X_train, y_train)\n",
        "\n",
        "# Восстанавливаем пропущенные значения\n",
        "X_pred = np.array(missing_idx).reshape(-1, 1)\n",
        "residuals.loc[missing_idx] = rf_model.predict(X_pred)\n",
        "\n",
        "# 3. Восстановление полного временного ряда\n",
        "df_ts['Восстановленный ряд'] = trend_recovered + decompose.seasonal + residuals\n",
        "\n",
        "# 4. Визуализация\n",
        "fig, axes = plt.subplots(nrows=4, ncols=1, figsize=(14, 10))\n",
        "\n",
        "# Оригинальный ряд\n",
        "df_ts['Цена на арматуру'].plot(ax=axes[0], title='Оригинальный временной ряд')\n",
        "# Восстановленный тренд\n",
        "trend_recovered.plot(ax=axes[1], title='Восстановленный тренд')\n",
        "# Сезонность (она неизменна)\n",
        "decompose.seasonal.plot(ax=axes[2], title='Сезонность')\n",
        "# Восстановленный шум\n",
        "residuals.plot(ax=axes[3], title='Восстановленный шум')\n",
        "\n",
        "plt.tight_layout()\n",
        "plt.show()\n",
        "\n",
        "# Сравнение оригинального и восстановленного ряда\n",
        "plt.figure(figsize=(14,6))\n",
        "plt.plot(df_ts['Цена на арматуру'], label=\"Оригинальный ряд\", linestyle=\"dashed\")\n",
        "plt.plot(df_ts['Восстановленный ряд'], label=\"Восстановленный ряд\", color='red')\n",
        "plt.legend()\n",
        "plt.title(\"Сравнение оригинального и восстановленного ряда\")\n",
        "plt.show()"
      ],
      "metadata": {
        "id": "8ipy5_23EB2e"
      },
      "execution_count": null,
      "outputs": []
    },
    {
      "cell_type": "markdown",
      "source": [
        "### тест вариант"
      ],
      "metadata": {
        "id": "tLBUKiBW_RuR"
      }
    },
    {
      "cell_type": "code",
      "source": [
        "import numpy as np\n",
        "import pandas as pd\n",
        "import matplotlib.pyplot as plt\n",
        "from statsmodels.tsa.seasonal import seasonal_decompose\n",
        "from statsmodels.tsa.statespace.sarimax import SARIMAX\n",
        "from pmdarima import auto_arima\n",
        "from sklearn.ensemble import RandomForestRegressor\n",
        "from sklearn.model_selection import GridSearchCV\n",
        "\n",
        "# Декомпозиция временного ряда\n",
        "decompose = seasonal_decompose(df_ts['Цена на арматуру'], period=52, extrapolate_trend=False)\n",
        "\n",
        "# 1. Восстановление тренда с помощью SARIMA\n",
        "trend_filled = trend_filled.fillna(method='ffill').fillna(method='bfill') # Заполняем пропуски временно, чтобы обучить модель\n",
        "\n",
        "# Подбор оптимальных параметров SARIMA\n",
        "auto_model = auto_arima(trend_filled, seasonal=True, m=52,\n",
        "                        stepwise=True, trace=True,\n",
        "                        suppress_warnings=True,\n",
        "                        error_action=\"ignore\", max_order=20)\n",
        "\n",
        "# Используем найденные параметры\n",
        "best_order = auto_model.order\n",
        "best_seasonal_order = auto_model.seasonal_order\n",
        "\n",
        "# Обучаем SARIMA с лучшими параметрами\n",
        "model_trend = SARIMAX(trend_filled, order=best_order, seasonal_order=best_seasonal_order)\n",
        "result_trend = model_trend.fit()\n",
        "\n",
        "# Предсказание тренда\n",
        "trend_pred = result_trend.predict(start=trend_filled.index[0], end=trend_filled.index[-1])\n",
        "\n",
        "# Вставляем предсказанные значения вместо NaN\n",
        "trend_recovered = decompose.trend.copy()\n",
        "trend_recovered.loc[trend_recovered.isna()] = trend_pred[trend_recovered.isna()]\n",
        "\n",
        "# 2. Восстановление шума с помощью RandomForest\n",
        "residuals = decompose.resid.copy()\n",
        "\n",
        "# Разделяем известные и пропущенные значения\n",
        "known_idx = residuals.dropna().index\n",
        "missing_idx = residuals[residuals.isna()].index\n",
        "\n",
        "# Обучаем RandomForest на известных значениях шума\n",
        "X_train = np.array(known_idx).reshape(-1, 1)\n",
        "y_train = residuals.dropna().values\n",
        "\n",
        "# Подбор гиперпараметров RandomForest через GridSearchCV\n",
        "param_grid = {\n",
        "    \"n_estimators\": [50, 100, 200],\n",
        "    \"max_depth\": [10, 20, None],\n",
        "    \"min_samples_split\": [2, 5, 10],\n",
        "    \"min_samples_leaf\": [1, 2, 4],\n",
        "}\n",
        "\n",
        "rf_model = RandomForestRegressor(random_state=42)\n",
        "grid_search = GridSearchCV(rf_model, param_grid, cv=3, n_jobs=-1, verbose=1)\n",
        "grid_search.fit(X_train, y_train)\n",
        "\n",
        "# Используем лучшую модель\n",
        "best_rf_model = grid_search.best_estimator_\n",
        "\n",
        "# Восстанавливаем пропущенные значения\n",
        "X_pred = np.array(missing_idx).reshape(-1, 1)\n",
        "residuals.loc[missing_idx] = best_rf_model.predict(X_pred)\n",
        "\n",
        "# 3. Восстановление полного временного ряда\n",
        "df_ts['Восстановленный ряд'] = trend_recovered + decompose.seasonal + residuals\n",
        "\n",
        "# 4. Визуализация\n",
        "fig, axes = plt.subplots(nrows=4, ncols=1, figsize=(14, 10))\n",
        "\n",
        "# Оригинальный ряд\n",
        "df_ts['Цена на арматуру'].plot(ax=axes[0], title='Оригинальный временной ряд')\n",
        "# Восстановленный тренд\n",
        "trend_recovered.plot(ax=axes[1], title='Восстановленный тренд')\n",
        "# Сезонность (она неизменна)\n",
        "decompose.seasonal.plot(ax=axes[2], title='Сезонность')\n",
        "# Восстановленный шум\n",
        "residuals.plot(ax=axes[3], title='Восстановленный шум')\n",
        "\n",
        "plt.tight_layout()\n",
        "plt.show()\n",
        "\n",
        "# Сравнение оригинального и восстановленного ряда\n",
        "plt.figure(figsize=(14,6))\n",
        "plt.plot(df_ts['Цена на арматуру'], label=\"Оригинальный ряд\", linestyle=\"dashed\")\n",
        "plt.plot(df_ts['Восстановленный ряд'], label=\"Восстановленный ряд\", color='red')\n",
        "plt.legend()\n",
        "plt.title(\"Сравнение оригинального и восстановленного ряда\")\n",
        "plt.show()"
      ],
      "metadata": {
        "id": "iKj2I5z2n0xB"
      },
      "execution_count": null,
      "outputs": []
    },
    {
      "cell_type": "markdown",
      "source": [
        "### Работа с автокорреляцией"
      ],
      "metadata": {
        "id": "ZX1_Bncw_fz1"
      }
    },
    {
      "cell_type": "code",
      "source": [
        "# Получил 'сырые' значения автокорреляций\n",
        "acf(df_ts[\"Цена на арматуру\"] ,nlags = 100, fft = False)"
      ],
      "metadata": {
        "id": "HbbyMnONEBx-"
      },
      "execution_count": null,
      "outputs": []
    },
    {
      "cell_type": "code",
      "source": [
        "# Визуализация автокорреляции\n",
        "\n",
        "fig, ax = plt.subplots(nrows=2, ncols=1, figsize=(15, 15))\n",
        "df_ts['Цена на арматуру'].plot(ax=ax[0])\n",
        "plot_acf(df_ts['Цена на арматуру'], lags=100, ax=ax[1]);"
      ],
      "metadata": {
        "id": "qDyWN1dUEBtY"
      },
      "execution_count": null,
      "outputs": []
    },
    {
      "cell_type": "code",
      "source": [
        "# проверка на стационарность первоначального ряда\n",
        "# Функция для выполнения теста ADF\n",
        "def adf_test(series):\n",
        "    result = adfuller(series)\n",
        "    print(f\"ADF Statistic: {result[0]}\")\n",
        "    print(f\"p-value: {result[1]}\")\n",
        "    print(f\"Critical Values: {result[4]}\")\n",
        "\n",
        "    if result[1] < 0.05:\n",
        "        print(\"Ряд стационарен (p-value < 0.05)\")\n",
        "    else:\n",
        "        print(\"Ряд нестационарен (p-value >= 0.05)\")\n",
        "# Проверим на стационарность исходный ряд\n",
        "adf_test(df_ts['Цена на арматуру'])"
      ],
      "metadata": {
        "id": "3KUcJwSEEBoG"
      },
      "execution_count": null,
      "outputs": []
    },
    {
      "cell_type": "code",
      "source": [
        "plt.figure(figsize=(12, 5))\n",
        "\n",
        "# Гистограмма\n",
        "plt.subplot(1, 2, 1)\n",
        "sns.histplot(df_ts[\"Цена на арматуру\"], bins=30, kde=True)\n",
        "plt.title(\"Распределение цен на арматуру\")\n",
        "\n",
        "# Боксплот\n",
        "plt.subplot(1, 2, 2)\n",
        "sns.boxplot(x=df_ts[\"Цена на арматуру\"])\n",
        "plt.title(\"Боксплот цен на арматуру\")\n",
        "\n",
        "plt.show()"
      ],
      "metadata": {
        "id": "Ev8HjZwIEBjV"
      },
      "execution_count": null,
      "outputs": []
    },
    {
      "cell_type": "code",
      "source": [
        "df_ts['Цена_разница_неделя'] = df_ts['Цена на арматуру'].diff(1)  # Разница с прошлой неделей\n",
        "\n",
        "plt.figure(figsize=(24, 40))\n",
        "\n",
        "ax1 = plt.subplot(211)\n",
        "ax1.set_title('Цена на арматуру (раз в неделю)')\n",
        "ax1.set_ylabel('Цена', rotation=0, labelpad=30)\n",
        "df_ts.set_index('dt')['Цена на арматуру'].plot(ax=ax1, marker='o')\n",
        "\n",
        "ax2 = plt.subplot(212)\n",
        "ax2.set_title('Изменение цены (неделя к неделе)')\n",
        "ax2.set_ylabel('Разница', rotation=0, labelpad=30)\n",
        "df_ts.set_index('dt')['Цена_разница_неделя'].plot(ax=ax2, marker='', linestyle='dashed')\n",
        "\n",
        "plt.show()"
      ],
      "metadata": {
        "id": "4DfxhZ2-EBeS"
      },
      "execution_count": null,
      "outputs": []
    },
    {
      "cell_type": "code",
      "source": [],
      "metadata": {
        "id": "mUQVzPtMEBZH"
      },
      "execution_count": null,
      "outputs": []
    },
    {
      "cell_type": "code",
      "source": [
        "df_ts.replace(np.nan, 0, inplace=True)"
      ],
      "metadata": {
        "id": "8MfEFtqNEq5t"
      },
      "execution_count": null,
      "outputs": []
    },
    {
      "cell_type": "code",
      "source": [
        "df_ts.head(10)"
      ],
      "metadata": {
        "id": "i1w6PzO1y9yV"
      },
      "execution_count": null,
      "outputs": []
    },
    {
      "cell_type": "code",
      "source": [
        "# проверка на стационарность diff ряда\n",
        "result = adfuller(df_ts[\"Цена_разница_неделя\"])\n",
        "print(\"ADF Statistic:\", result[0])\n",
        "print(\"p-value:\", result[1])\n",
        "\n",
        "if result[1] < 0.05:\n",
        "    print(\"Ряд стационарен (отвергаем H0)\")\n",
        "else:\n",
        "    print(\"Ряд нестационарен (не отвергаем H0)\")"
      ],
      "metadata": {
        "id": "UT3UWzaIBDm3"
      },
      "execution_count": null,
      "outputs": []
    },
    {
      "cell_type": "code",
      "source": [
        "from scipy.signal import medfilt\n",
        "\n",
        "df_ts[\"Цена на арматуру (сглаженная)\"] = medfilt(df_ts[\"Цена_разница_неделя\"], kernel_size=5)"
      ],
      "metadata": {
        "id": "kHAP5vVay6kv"
      },
      "execution_count": null,
      "outputs": []
    },
    {
      "cell_type": "code",
      "source": [
        "# проверка на стационарность diff ряда после сглаживания\n",
        "result = adfuller(df_ts[\"Цена на арматуру (сглаженная)\"])\n",
        "print(\"ADF Statistic:\", result[0])\n",
        "print(\"p-value:\", result[1])\n",
        "\n",
        "if result[1] < 0.05:\n",
        "    print(\"Ряд стационарен (отвергаем H0)\")\n",
        "else:\n",
        "    print(\"Ряд нестационарен (не отвергаем H0)\")"
      ],
      "metadata": {
        "id": "okIEHYgjy6bs"
      },
      "execution_count": null,
      "outputs": []
    },
    {
      "cell_type": "code",
      "source": [],
      "metadata": {
        "id": "qCLa5NRRSGSn"
      },
      "execution_count": null,
      "outputs": []
    },
    {
      "cell_type": "code",
      "source": [],
      "metadata": {
        "id": "-ZoJ6WpLSGLm"
      },
      "execution_count": null,
      "outputs": []
    },
    {
      "cell_type": "code",
      "source": [],
      "metadata": {
        "id": "VycVCQvySGFW"
      },
      "execution_count": null,
      "outputs": []
    },
    {
      "cell_type": "markdown",
      "source": [
        "# Модели"
      ],
      "metadata": {
        "id": "-wdpPq5R98W0"
      }
    },
    {
      "cell_type": "code",
      "source": [],
      "metadata": {
        "id": "SgV22Ky2_Ik0"
      },
      "execution_count": null,
      "outputs": []
    },
    {
      "cell_type": "code",
      "source": [],
      "metadata": {
        "id": "3TS68cj1_IQS"
      },
      "execution_count": null,
      "outputs": []
    },
    {
      "cell_type": "code",
      "source": [],
      "metadata": {
        "id": "JZEpFbB-_ICo"
      },
      "execution_count": null,
      "outputs": []
    },
    {
      "cell_type": "markdown",
      "source": [
        "### Линейная регрессия"
      ],
      "metadata": {
        "id": "-6whTz78-GD3"
      }
    },
    {
      "cell_type": "code",
      "source": [
        "# 4. Разделение данных на обучающую и тестовую выборки (80% - обучение, 20% - тест)\n",
        "X_train, X_test, y_train, y_test = train_test_split(X, y, test_size=0.2, random_state=42)\n",
        "\n",
        "# 5. Создание и обучение модели линейной регрессии\n",
        "model = LinearRegression()\n",
        "model.fit(X_train, y_train)\n",
        "\n",
        "# 6. Получение предсказаний\n",
        "y_pred = model.predict(X_test)\n",
        "\n",
        "# 7. Оценка качества модели\n",
        "mae = mean_absolute_error(y_test, y_pred)\n",
        "mse = mean_squared_error(y_test, y_pred)\n",
        "rmse = np.sqrt(mse)\n",
        "r2_score = model.score(X_test, y_test)\n",
        "\n",
        "# Вывод метрик\n",
        "print(f\"Средняя абсолютная ошибка (MAE): {mae:.2f}\")\n",
        "print(f\"Среднеквадратичная ошибка (MSE): {mse:.2f}\")\n",
        "print(f\"Корень среднеквадратичной ошибки (RMSE): {rmse:.2f}\")\n",
        "print(f\"Коэффициент детерминации (R²): {r2_score:.4f}\")\n",
        "\n",
        "# 8. Вывод коэффициентов модели\n",
        "print(f\"Коэффициент (наклон линии): {model.coef_[0]:.4f}\")\n",
        "print(f\"Свободный член (пересечение с осью Y): {model.intercept_:.2f}\")\n",
        "\n",
        "# 9. Визуализация результатов\n",
        "plt.figure(figsize=(10, 6))\n",
        "plt.scatter(X_test, y_test, color=\"blue\", label=\"Реальные значения\")  # Реальные цены\n",
        "plt.plot(X_test, y_pred, color=\"red\", linewidth=2, label=\"Предсказания (линейная регрессия)\")  # Линия регрессии\n",
        "plt.xlabel(\"Недели\")\n",
        "plt.ylabel(\"Цена на арматуру\")\n",
        "plt.title(\"Линейная регрессия: предсказание цены арматуры\")\n",
        "plt.legend()\n",
        "plt.show()\n",
        ""
      ],
      "metadata": {
        "id": "0KF5zGRSSF6S"
      },
      "execution_count": null,
      "outputs": []
    },
    {
      "cell_type": "markdown",
      "source": [
        "### Arima"
      ],
      "metadata": {
        "id": "mK2eUkpB-NHF"
      }
    },
    {
      "cell_type": "code",
      "source": [],
      "metadata": {
        "id": "ZJ_skwmpSFzm"
      },
      "execution_count": null,
      "outputs": []
    },
    {
      "cell_type": "code",
      "source": [],
      "metadata": {
        "id": "zCM42TTOSFu1"
      },
      "execution_count": null,
      "outputs": []
    },
    {
      "cell_type": "code",
      "source": [],
      "metadata": {
        "id": "bFj7zTO1SFo4"
      },
      "execution_count": null,
      "outputs": []
    },
    {
      "cell_type": "markdown",
      "source": [
        "### LSTM"
      ],
      "metadata": {
        "id": "NUCzSV7s-x2n"
      }
    },
    {
      "cell_type": "code",
      "source": [],
      "metadata": {
        "id": "Ca5LNuGaSFhU"
      },
      "execution_count": null,
      "outputs": []
    },
    {
      "cell_type": "code",
      "source": [
        "# Нормализация данных (LSTM лучше работает с масштабированными данными)\n",
        "scaler = MinMaxScaler(feature_range=(0, 1))\n",
        "df_ts[\"Цена на арматуру (сглаженная)\"] = scaler.fit_transform(df_ts[[\"Цена на арматуру (сглаженная)\"]])\n",
        "\n",
        "# Разделение на тренировочный и тестовый наборы\n",
        "train_size = int(len(df_ts) * 0.8)  # 80% на обучение, 20% на тест\n",
        "train, test = df_ts.iloc[:train_size], df_ts.iloc[train_size:]\n"
      ],
      "metadata": {
        "id": "pu5BgBjYIujZ"
      },
      "execution_count": null,
      "outputs": []
    },
    {
      "cell_type": "code",
      "source": [
        "# 4. Создание окон временного ряда\n",
        "import numpy as np\n",
        "\n",
        "def create_sequences(df_ts, seq_length):\n",
        "    X, y = [], []\n",
        "    for i in range(len(df_ts) - seq_length):\n",
        "        X.append(df_ts.iloc[i:i+seq_length].values)  # Используем .iloc для работы с DataFrame\n",
        "        y.append(df_ts.iloc[i+seq_length].values)  # Доступ к следующему значению\n",
        "    return np.array(X), np.array(y)\n",
        "\n",
        "# Гиперпараметр: длина окна (количество предыдущих дней, используемых для предсказания)\n",
        "seq_length = 20\n",
        "\n",
        "# Проверяем, что столбец существует в DataFrame\n",
        "if \"Цена на арматуру (сглаженная)\" not in df_ts.columns:\n",
        "    raise KeyError(\"Столбец 'Цена на арматуру (сглаженная)' не найден в df_ts!\")\n",
        "\n",
        "# Выбираем нужный столбец и передаем в функцию\n",
        "X_train, y_train = create_sequences(df_ts[[\"Цена на арматуру (сглаженная)\"]], seq_length)\n",
        "X_test, y_test = create_sequences(df_ts[[\"Цена на арматуру (сглаженная)\"]], seq_length)\n",
        "\n",
        "# Изменение формы для LSTM (samples, timesteps, features)\n",
        "X_train = X_train.reshape((X_train.shape[0], X_train.shape[1], 1))\n",
        "X_test = X_test.reshape((X_test.shape[0], X_test.shape[1], 1))"
      ],
      "metadata": {
        "id": "CAtSUPiqKajX"
      },
      "execution_count": null,
      "outputs": []
    },
    {
      "cell_type": "code",
      "source": [
        "# 5. Создание и обучение LSTM-модели\n",
        "\n",
        "# Построение модели LSTM\n",
        "model = Sequential([\n",
        "    LSTM(50, return_sequences=True, input_shape=(seq_length, 1)),\n",
        "    Dropout(0.2),\n",
        "    LSTM(50, return_sequences=False),\n",
        "    Dropout(0.2),\n",
        "    Dense(25),\n",
        "    Dense(1)\n",
        "])\n",
        "\n",
        "# Компиляция модели\n",
        "model.compile(optimizer=\"adam\", loss=\"mse\")\n",
        "\n",
        "# Обучение модели\n",
        "history = model.fit(X_train, y_train, validation_data=(X_test, y_test), epochs=50, batch_size=16, verbose=1)\n"
      ],
      "metadata": {
        "id": "K-j8x0vhKaem"
      },
      "execution_count": null,
      "outputs": []
    },
    {
      "cell_type": "code",
      "source": [
        "import numpy as np\n",
        "import matplotlib.pyplot as plt\n",
        "from sklearn.metrics import mean_absolute_error, mean_squared_error\n",
        "\n",
        "# Предсказания модели\n",
        "y_pred = model.predict(X_test)\n",
        "\n",
        "# Обратное масштабирование\n",
        "y_test_inv = scaler.inverse_transform(y_test.reshape(-1, 1))\n",
        "y_pred_inv = scaler.inverse_transform(y_pred)\n",
        "\n",
        "# Оценка ошибок\n",
        "mae = mean_absolute_error(y_test_inv, y_pred_inv)\n",
        "rmse = np.sqrt(mean_squared_error(y_test_inv, y_pred_inv))\n",
        "\n",
        "print(f\"MAE: {mae:.2f}\")\n",
        "print(f\"RMSE: {rmse:.2f}\")\n",
        "\n",
        "# Проверка размеров данных\n",
        "print(f\"Общая длина df_ts: {len(df_ts)}\")\n",
        "print(f\"train_size: {train_size}, seq_length: {seq_length}\")\n",
        "print(f\"Длина df_ts после train_size + seq_length: {len(df_ts.iloc[train_size + seq_length:])}\")\n",
        "print(f\"Размер y_test_inv: {y_test_inv.shape}\")\n",
        "print(f\"Размер y_pred_inv: {y_pred_inv.shape}\")\n",
        "\n",
        "# Проверяем индексы временных меток\n",
        "print(\"Последние 10 дат в df_ts:\")\n",
        "print(df_ts[\"dt\"].tail(10))\n",
        "\n",
        "print(\"Первые 10 дат тестового набора:\")\n",
        "print(df_ts[\"dt\"].iloc[train_size + seq_length:train_size + seq_length + 10])\n",
        "\n",
        "# Приведение размеров временных меток и предсказаний к общему минимуму\n",
        "min_length = min(len(df_ts[\"dt\"].iloc[train_size + seq_length:]), len(y_test_inv))\n",
        "dates = df_ts[\"dt\"].iloc[train_size + seq_length:train_size + seq_length + min_length]\n",
        "y_test_inv = y_test_inv[:min_length].flatten()\n",
        "y_pred_inv = y_pred_inv[:min_length].flatten()\n",
        "\n",
        "# Визуализация предсказаний\n",
        "plt.figure(figsize=(12, 6))\n",
        "plt.plot(dates, y_test_inv, label=\"Фактические цены\")\n",
        "plt.plot(dates, y_pred_inv, label=\"Прогноз LSTM\")\n",
        "plt.xlabel(\"Дата\")\n",
        "plt.ylabel(\"Цена на арматуру\")\n",
        "plt.legend()\n",
        "plt.show()\n",
        "\n"
      ],
      "metadata": {
        "id": "NukibeC1KaYQ"
      },
      "execution_count": null,
      "outputs": []
    },
    {
      "cell_type": "code",
      "source": [],
      "metadata": {
        "id": "MApqCDnjSFaV"
      },
      "execution_count": null,
      "outputs": []
    },
    {
      "cell_type": "code",
      "source": [],
      "metadata": {
        "id": "S8ccbtExSFV_"
      },
      "execution_count": null,
      "outputs": []
    },
    {
      "cell_type": "markdown",
      "source": [
        "### смесь 2 моделй"
      ],
      "metadata": {
        "id": "vF8FX4zv-8Nr"
      }
    },
    {
      "cell_type": "code",
      "source": [],
      "metadata": {
        "id": "XMorcz9Y-70p"
      },
      "execution_count": null,
      "outputs": []
    }
  ]
}